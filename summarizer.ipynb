{
 "cells": [
  {
   "cell_type": "code",
   "execution_count": 16,
   "metadata": {},
   "outputs": [],
   "source": [
    "# bring in our LLAMA_CLOUD_API_KEY\n",
    "from dotenv import load_dotenv\n",
    "load_dotenv(dotenv_path=\".env/pyvenv.cfg\")\n",
    "\n",
    "\n",
    "# bring in deps\n",
    "from llama_parse import LlamaParse\n",
    "from llama_index.core import SimpleDirectoryReader\n"
   ]
  },
  {
   "cell_type": "code",
   "execution_count": 17,
   "metadata": {},
   "outputs": [],
   "source": [
    "import nest_asyncio\n",
    "nest_asyncio.apply()"
   ]
  },
  {
   "cell_type": "code",
   "execution_count": 5,
   "metadata": {},
   "outputs": [],
   "source": [
    "# filename = \"data/Software_Engineering\"\n",
    "filename = \"data/jpm-global-macro-funds-brochure-en\""
   ]
  },
  {
   "cell_type": "code",
   "execution_count": 33,
   "metadata": {},
   "outputs": [
    {
     "ename": "ValueError",
     "evalue": "File data/jpm-global-macro-funds-brocure-en.pdf does not exist.",
     "output_type": "error",
     "traceback": [
      "\u001b[1;31m---------------------------------------------------------------------------\u001b[0m",
      "\u001b[1;31mValueError\u001b[0m                                Traceback (most recent call last)",
      "Cell \u001b[1;32mIn[33], line 8\u001b[0m\n\u001b[0;32m      6\u001b[0m \u001b[38;5;66;03m# use SimpleDirectoryReader to parse our file\u001b[39;00m\n\u001b[0;32m      7\u001b[0m file_extractor \u001b[38;5;241m=\u001b[39m {\u001b[38;5;124m\"\u001b[39m\u001b[38;5;124m.pdf\u001b[39m\u001b[38;5;124m\"\u001b[39m: parser}\n\u001b[1;32m----> 8\u001b[0m documents \u001b[38;5;241m=\u001b[39m \u001b[43mSimpleDirectoryReader\u001b[49m\u001b[43m(\u001b[49m\u001b[43minput_files\u001b[49m\u001b[38;5;241;43m=\u001b[39;49m\u001b[43m[\u001b[49m\u001b[43mfilename\u001b[49m\u001b[38;5;241;43m+\u001b[39;49m\u001b[38;5;124;43m'\u001b[39;49m\u001b[38;5;124;43m.pdf\u001b[39;49m\u001b[38;5;124;43m'\u001b[39;49m\u001b[43m]\u001b[49m\u001b[43m,\u001b[49m\u001b[43m \u001b[49m\u001b[43mfile_extractor\u001b[49m\u001b[38;5;241;43m=\u001b[39;49m\u001b[43mfile_extractor\u001b[49m\u001b[43m)\u001b[49m\u001b[38;5;241m.\u001b[39mload_data()\n",
      "File \u001b[1;32mc:\\Users\\jamin\\Documents\\Courses\\Legal-Pythia\\.env\\Lib\\site-packages\\llama_index\\core\\readers\\file\\base.py:269\u001b[0m, in \u001b[0;36mSimpleDirectoryReader.__init__\u001b[1;34m(self, input_dir, input_files, exclude, exclude_hidden, errors, recursive, encoding, filename_as_id, required_exts, file_extractor, num_files_limit, file_metadata, raise_on_error, fs)\u001b[0m\n\u001b[0;32m    267\u001b[0m \u001b[38;5;28;01mfor\u001b[39;00m path \u001b[38;5;129;01min\u001b[39;00m input_files:\n\u001b[0;32m    268\u001b[0m     \u001b[38;5;28;01mif\u001b[39;00m \u001b[38;5;129;01mnot\u001b[39;00m \u001b[38;5;28mself\u001b[39m\u001b[38;5;241m.\u001b[39mfs\u001b[38;5;241m.\u001b[39misfile(path):\n\u001b[1;32m--> 269\u001b[0m         \u001b[38;5;28;01mraise\u001b[39;00m \u001b[38;5;167;01mValueError\u001b[39;00m(\u001b[38;5;124mf\u001b[39m\u001b[38;5;124m\"\u001b[39m\u001b[38;5;124mFile \u001b[39m\u001b[38;5;132;01m{\u001b[39;00mpath\u001b[38;5;132;01m}\u001b[39;00m\u001b[38;5;124m does not exist.\u001b[39m\u001b[38;5;124m\"\u001b[39m)\n\u001b[0;32m    270\u001b[0m     input_file \u001b[38;5;241m=\u001b[39m _Path(path)\n\u001b[0;32m    271\u001b[0m     \u001b[38;5;28mself\u001b[39m\u001b[38;5;241m.\u001b[39minput_files\u001b[38;5;241m.\u001b[39mappend(input_file)\n",
      "\u001b[1;31mValueError\u001b[0m: File data/jpm-global-macro-funds-brocure-en.pdf does not exist."
     ]
    }
   ],
   "source": [
    "# set up parser\n",
    "parser = LlamaParse(\n",
    "    result_type=\"text\"  # \"markdown\" and \"text\" are available\n",
    ")\n",
    "\n",
    "# use SimpleDirectoryReader to parse our file\n",
    "file_extractor = {\".pdf\": parser}\n",
    "documents = SimpleDirectoryReader(input_files=[filename+'.pdf'], file_extractor=file_extractor).load_data()"
   ]
  },
  {
   "cell_type": "code",
   "execution_count": 20,
   "metadata": {},
   "outputs": [
    {
     "name": "stdout",
     "output_type": "stream",
     "text": [
      "8\n"
     ]
    }
   ],
   "source": [
    "# print(documents[1].text)\n",
    "print(len(documents))"
   ]
  },
  {
   "cell_type": "code",
   "execution_count": 21,
   "metadata": {},
   "outputs": [],
   "source": [
    "with open(filename+\".txt\",'w+',encoding=\"utf-8\") as f:\n",
    "    for i in range(len(documents)):\n",
    "        f.write(documents[i].text.replace(\"  \", \"\")+\"\\n\")"
   ]
  },
  {
   "cell_type": "code",
   "execution_count": 6,
   "metadata": {},
   "outputs": [],
   "source": [
    "content = \"\"\"\"\"\"\n",
    "with open(filename+\".txt\", \"r\", encoding=\"utf-8\") as f:\n",
    "    content += f.read()\n",
    "content = content.replace(\"  \", \"\")"
   ]
  },
  {
   "cell_type": "code",
   "execution_count": 23,
   "metadata": {},
   "outputs": [],
   "source": [
    "from langchain.text_splitter import RecursiveCharacterTextSplitter\n",
    "\n",
    "\n",
    "splitter = RecursiveCharacterTextSplitter(\n",
    "    separators=[\"\\n\\n\", \"\\n\"],\n",
    "    chunk_size=1000,\n",
    "    chunk_overlap=200,\n",
    "    length_function=len\n",
    ")\n",
    "\n",
    "chunks = splitter.split_text(content)"
   ]
  },
  {
   "cell_type": "code",
   "execution_count": 24,
   "metadata": {},
   "outputs": [
    {
     "name": "stdout",
     "output_type": "stream",
     "text": [
      "20\n"
     ]
    }
   ],
   "source": [
    "print(len(chunks))"
   ]
  },
  {
   "cell_type": "code",
   "execution_count": 31,
   "metadata": {},
   "outputs": [
    {
     "name": "stdout",
     "output_type": "stream",
     "text": [
      " FOR◊PROFESSIONAL◊CLIENTS◊/◊QUALIFIED◊INVESTORS◊ONLY◊–◊NOT◊FOR◊RETAIL◊USE◊OR◊DISTRIBUTION\n",
      "\n",
      " Focus´\n",
      "picture\n",
      " bigger\n",
      " on´the´´\n",
      "\n",
      "JPM◊Global◊Macro◊Fund\n",
      "JPM◊Global◊Macro◊Opportunities◊Fund\n",
      " GLOBAL◊MACRO◊OPPORTUNITIES◊&◊GLOBAL◊MACRO◊FUNDS\n",
      "\n",
      "The´small´picture\n",
      "A˚traditional˚fund˚manager’s˚job˚is˚to˚beat˚a˚benchmark˚by˚trying˚to˚identify˚the˚shares˚(or˚bonds˚or˚other˚assets)˚that˚will˚outperform˚their˚\n",
      "peers.˚The˚decision˚often˚begins˚with˚the˚specifics.\n",
      "\n",
      "Let’s˚take˚two˚rival˚widget˚makers˚as˚an˚example:\n",
      "\n",
      "VS.\n",
      "WIDGET MAKER A (UK) WIDGET MAKER B (GERMANY)\n",
      "\n",
      "Expensive share price Cheap share price\n",
      "Cost pressures Managing costs well\n",
      "Proﬁts stagnating Proﬁts growing\n",
      "\n",
      "SELL BUY\n",
      "\n",
      "This˚is˚a˚time-tested˚way˚of˚identifying˚the˚companies˚whose˚shares˚have˚the˚potential˚to˚outperform˚their˚peers.˚And˚it˚still˚makes˚sense˚today.˚\n",
      "\n",
      "But◊what◊if◊it◊was◊early◊July◊2016?◊ A˚big˚fall˚in˚the˚value˚of˚sterling˚following˚the˚UK’s˚Brexit˚vote˚would˚be˚about˚to˚change˚\n",
      "everything,˚making˚Widget˚Maker˚A’s˚products˚much˚more˚attractive˚to˚overseas˚buyers˚and˚therefore˚boosting˚the˚share˚price.˚At˚the˚same˚\n",
      "time,˚this˚competitive˚pressure˚would˚make˚Widget˚Maker˚B˚less˚attractive.˚Sometimes,˚external˚events˚can˚impact˚a˚company’s˚future˚\n",
      "much˚more˚than˚internal˚factors.\n",
      "\n",
      "2´´|´´JPM´GLOBAL´MACRO´OPPORTUNITIES´&´JPM´GLOBAL´MACRO´FUNDS\n",
      "The´big´picture\n",
      "As˚macro˚investors,˚we˚still˚invest˚in˚shares,˚bonds˚and˚other˚assets.˚But˚rather˚than˚starting˚with˚company˚specifics,˚we˚start˚with˚the˚\n",
      "big˚picture.˚\n",
      "\n",
      "We˚seek˚to˚identify˚the˚large˚external˚forces˚that˚can˚drive˚the˚performance˚of˚companies,˚asset˚classes˚and˚markets˚over˚time,˚and˚then˚\n",
      "distil˚these˚into˚a˚focused˚portfolio˚of˚investments.˚What˚type˚of˚external˚forces˚do˚we˚mean?\n",
      "\n",
      " ECONOMIC SOCIALDEMOGRAPHIC\n",
      " DEVELOPMENTS CHANGE SHIFTS\n",
      "\n",
      "We˚invest˚in˚the˚companies˚and˚other˚assets,˚across˚sectors˚and˚regions,˚that˚we˚think˚have˚the˚potential˚to˚benefit˚from˚these˚global˚\n",
      "themes˚—˚and˚we˚also˚try˚to˚profit˚from˚short˚exposure˚to˚companies˚and˚other˚assets˚that˚we˚expect˚to˚do˚badly˚as˚a˚result˚of˚those˚\n",
      "themes.˚We˚don’t˚have˚a˚benchmark˚to˚constrain˚us,˚and˚we˚aren’t˚reliant˚on˚rising˚markets˚to˚generate˚returns˚on˚your˚investment.\n",
      "\n",
      "WHY◊CHOOSE◊MACRO◊INVESTING?\n",
      "\n",
      "44444\n",
      "The´potential´to´ A´complement´to´ A´complement´to´´\n",
      " generate´positive´ traditional´single-other´multi-asset´\n",
      " returns´in´various´ asset´funds´in´your´ approaches\n",
      "market´environments portfolio\n",
      "\n",
      " J.P.´MORGAN´ASSET´MANAGEMENT´´|´´´3\n",
      "How◊we◊see◊the◊world\n",
      "Our´macro´funds´invest´in´the´long-term,´secular´themes´and´cyclical´dynamics´that´the´managers´believe´\n",
      "are´driving´markets´today.´As´the´global´backdrop´evolves,´the´managers´can´flexibly´adjust´portfolio´\n",
      "exposures,´and´add,´remove´or´change´the´themes.\n",
      "\n",
      " Weþassessþtheþeconomicþconditionsþ\n",
      " Weþassessþtheþeconomicþconditionsþ\n",
      " andþtheþpolicyþresponsesþinþ\n",
      " andþtheþpolicyþresponsesþinþ\n",
      " theseþregionsþandþconsiderþtheþ\n",
      "theseþregionsþandþconsiderþtheþ\n",
      " investmentþimplications.þ\n",
      "investmentþimplications.þ\n",
      " CYCLIC AL◊THEMES\n",
      "\n",
      "USEUROPECHINA\n",
      "\n",
      "ASIA◊PACIFIC EMERGING◊MARKET◊\n",
      " EX◊CHINA OPPORTUNISTIC\n",
      "\n",
      "The◊resources◊to◊put◊it◊all◊together◊\n",
      "Identifying´the´themes´shaping´the´global´landscape´—´and´the´investment´\n",
      "opportunities´created´by´themes´—´takes´vast´resources´and´specialist´insight.´\n",
      "Our´macro´managers´work´together´with´dedicated´strategists´and´asset´class´\n",
      "experts´to´build´a´portfolio´that´reflects´our´changing´world.\n",
      "\n",
      "Themes˚are˚as˚at˚December˚2020.˚Opinions,˚estimates,˚forecasts,˚projections˚and˚statements˚of˚financial˚market˚trends˚are˚based˚on˚market˚\n",
      "conditions˚at˚the˚date˚of˚the˚publication,˚constitute˚our˚judgment˚and˚are˚subject˚to˚change˚without˚notice.˚There˚can˚be˚no˚guarantee˚they˚will˚\n",
      "be˚met.\n",
      "\n",
      "4´´|´´JPM´GLOBAL´MACRO´OPPORTUNITIES´&´JPM´GLOBAL´MACRO´FUNDS\n",
      " Long-termþthemesþthatþweþ\n",
      "Long-termþthemesþthatþweþ\n",
      " expectþtoþplayþoutþregardlessþ\n",
      " expectþtoþplayþoutþregardlessþ\n",
      " ofþmarketþcycles.\n",
      "ofþmarketþcycles.\n",
      "\n",
      " SECUL AR◊THEMES\n",
      "\n",
      "THEME :◊GLOBAL◊POLICY◊EVOLUTION THEME:◊EMERGING◊MARKET◊CONSUMER◊DEMAND\n",
      " To´ease´the´impact´of´Covid-19,´central´banks´and´ Traditional´drivers´of´emerging´market´growth´are´becoming´\n",
      " governments´have´provided´unprecedented´levels´of´ less´relevant,´with´middle´class´consumer´demand´playing´a´\n",
      " monetary,´fiscal´and´liquidity´stimulus. growing´role.´\n",
      "\n",
      " THEME :◊CLIMATE◊CHANGE◊RESPONSETHEME:◊WIDESPREAD◊TECHNOLOGY◊ADOPTION◊\n",
      " Governments,´companies´and´consumers´are´placing´more´ The´breadth´of´innovation´and´the´pace´of´technology´\n",
      " emphasis´on´sustainability´in´response´to´climate´change.adoption´are´disrupting´business´models.\n",
      "\n",
      "The◊theme◊in◊the◊portfolio\n",
      "4 LONG◊EXPOSURE:◊Renewable´power´Utilities´\n",
      "companies´transitioning´away´from´fossil´fuels´\n",
      "towards´alternative´renewable´energy´sources,´\n",
      "supported´by´policy´changes,´led´by´the´EU.\n",
      "\n",
      "\n",
      "The◊theme◊in◊the◊portfolio◊\n",
      "4 LONG◊EXPOSURE:´Global´payment´companies.´The´\n",
      "move´from´cash´to´electronic´payments´continues´\n",
      "apace,´fuelled´in´part´by´the´increase´in´ecommerce.\n",
      "7 SHORT◊EXPOSURE:√Consumer´staples.´Traditional´\n",
      "retailers´are´struggling´as´consumers´move´to´online´\n",
      "shopping.´\n",
      "\n",
      "Asþwellþasþlookingþforþ\n",
      " Asþwellþasþlookingþforþ\n",
      "investmentþideasþinþindividualþ\n",
      " investmentþideasþinþindividualþ\n",
      "\n",
      "\n",
      "\n",
      "\n",
      "\n",
      "\n",
      "themes,þweþlookþforþwhereþ\n",
      "themes,þweþlookþforþwhereþ\n",
      "themesþintersect.þThisþpositionþ\n",
      "themesþintersect.þThisþpositionþ\n",
      "\n",
      "\n",
      "alsoþtiesþintoþtheþglobalþpolicyþ\n",
      " alsoþtiesþintoþtheþglobalþpolicyþ\n",
      "evolutionþtheme.\n",
      "evolutionþtheme.\n",
      "\n",
      "\n",
      "\n",
      "Weþareþpositionedþtoþ\n",
      " Weþareþpositionedþtoþ\n",
      "benefitþfromþfallingþ\n",
      " benefitþfromþfallingþ Weþholdþsharesþinþtheseþ\n",
      " Weþholdþsharesþinþtheseþ\n",
      " companies,þwhereþweþexpectþ\n",
      "companies,þwhereþweþexpectþ\n",
      "\n",
      "\n",
      "\n",
      "shareþprices.\n",
      " shareþprices. shareþpricesþtoþrise.\n",
      "shareþpricesþtoþrise.\n",
      "\n",
      "\n",
      "\n",
      "\n",
      "\n",
      "J.P.´MORGAN´ASSET´MANAGEMENT´´|´´´5\n",
      " GLOBAL◊MACRO◊OPPORTUNITIES◊&◊GLOBAL◊MACRO◊FUNDS\n",
      "\n",
      " JPM◊Global◊Macro◊Opportunities◊C◊(acc) JPM◊Global◊Macro◊C◊(acc)\n",
      " Key◊facts◊about◊the◊fund◊(as◊of◊31/03/21)Key◊facts◊about◊the◊fund◊(as◊of◊31/03/21)\n",
      " Assets˚under˚˚ £1814.0mAssets˚under˚˚ £100.9m\n",
      " management management\n",
      " Expected˚realised˚volatility <10%Expected˚realised˚volatility<6%\n",
      " ISIN˚code C˚(acc)˚GB00B4WKYF80 ISIN˚codeC˚(acc)˚GB00B235HC61˚\n",
      "\n",
      "INVESTMENT◊OBJECTIVE:◊\n",
      "JPM◊GLOBAL◊MACRO◊OPPORTUNITIES◊C◊(ACC)\n",
      "The˚Fund˚aims˚to˚provide˚positive˚investment˚returns˚over˚a˚rolling˚\n",
      "3˚year˚period˚in˚all˚market˚conditions˚by˚investing˚in˚securities˚\n",
      "globally,˚using˚financial˚derivative˚instruments˚where˚appropriate.˚ ˚\n",
      "A˚positive˚return˚is˚not˚guaranteed˚over˚this˚or˚any˚time˚period˚ ˚\n",
      "and˚a˚capital˚loss˚may˚occur.\n",
      "\n",
      "INVESTMENT◊OBJECTIVE:◊◊\n",
      "JPM◊GLOBAL◊MACRO◊C◊(ACC)\n",
      "The˚Fund˚aims˚to˚provide˚positive˚investment˚returns˚over˚a˚rolling˚3˚\n",
      "year˚period˚in˚all˚market˚conditions˚by˚investing˚in˚securities˚globally,˚\n",
      "using˚Financial˚Derivative˚Instruments˚where˚appropriate,˚with˚a˚\n",
      "volatility˚level˚typically˚lower˚than˚two-thirds˚of˚the˚MSCI˚All˚Country˚\n",
      "World˚Index˚(Total˚Return˚Net).˚A˚positive˚return˚is˚not˚guaranteed˚\n",
      "over˚this˚or˚any˚time˚period˚and˚a˚capital˚loss˚may˚occur.\n",
      "\n",
      "The˚risk/return˚targets˚are˚the˚investment˚manager’s˚internal˚guidelines˚only˚to˚achieve˚the˚fund’s˚investment˚\n",
      "objectives˚and˚policies˚as˚stated˚in˚the˚prospectus.˚The˚targets˚are˚subject˚to˚change.˚There˚is˚no˚guarantee˚\n",
      "that˚these˚targets˚will˚be˚met.\n",
      "\n",
      "6´´|´´JPM´GLOBAL´MACRO´OPPORTUNITIES´&´JPM´GLOBAL´MACRO´FUNDS\n",
      "RISK◊PROFILE\n",
      "The˚Funds˚can˚use˚sophisticated˚investment˚techniques˚that˚differ˚\n",
      "from˚those˚used˚in˚traditional˚Equity˚funds.\n",
      "The˚Funds˚should˚not˚be˚used˚as˚a˚substitute˚for˚liquidity˚funds˚or˚ ˚\n",
      "cash˚accounts.\n",
      "The˚value˚of˚Bonds˚and˚other˚Debt˚Securities˚may˚change˚\n",
      "significantly˚depending˚on˚market,˚economic˚and˚interest˚rate˚\n",
      "conditions˚as˚well˚as˚the˚creditworthiness˚of˚the˚issuer.˚Issuers˚ ˚\n",
      "of˚Bonds˚and˚other˚Debt˚Securities˚may˚fail˚to˚meet˚payment˚\n",
      "obligations˚(default)˚or˚the˚credit˚rating˚of˚Bonds˚and˚other˚Debt˚\n",
      "Securities˚may˚be˚downgraded.˚These˚risks˚are˚typically˚increased˚\n",
      "for˚Below˚Investment˚Grade˚and˚certain˚Unrated˚securities,˚which˚\n",
      "may˚also˚be˚subject˚to˚higher˚volatility˚and˚be˚more˚difficult˚to˚\n",
      "sell˚than˚Investment˚Grade˚securities.\n",
      "The˚value˚of˚Equity˚and˚Equity-Linked˚Securities˚may˚fluctuate˚in˚\n",
      "response˚to˚the˚performance˚of˚individual˚companies˚and˚general˚\n",
      "market˚conditions.\n",
      "The˚Funds˚may˚use˚Financial˚Derivative˚Instruments˚(derivatives)˚ ˚\n",
      "and/or˚forward˚transactions˚for˚investment˚purposes.˚The˚value˚ ˚\n",
      "of˚derivatives˚can˚be˚volatile.˚This˚is˚because˚a˚small˚movement˚in˚ ˚\n",
      "the˚value˚of˚the˚underlying˚asset˚can˚cause˚a˚large˚movement˚in˚the˚\n",
      "value˚of˚the˚derivative˚and˚therefore,˚investment˚in˚derivatives˚may˚\n",
      "result˚in˚losses˚in˚excess˚of˚the˚amount˚invested˚by˚the˚Funds.\n",
      "Some˚Financial˚Derivative˚Instruments˚(derivatives)˚traded˚on˚an˚\n",
      "exchange˚may˚be˚illiquid,˚and˚as˚a˚result,˚may˚need˚to˚be˚held˚\n",
      "until˚the˚derivative˚contract˚position˚expires.˚This˚may˚have˚an˚\n",
      "adverse˚impact˚on˚the˚return˚of˚the˚Funds.\n",
      "The˚Funds˚invest˚opportunistically˚and˚exposure˚to˚the˚markets˚ ˚\n",
      "may˚vary˚substantially˚over˚a˚short˚period˚of˚time˚depending˚on˚\n",
      "market˚conditions.˚Therefore˚the˚Funds˚may˚not˚be˚fully˚invested˚ ˚\n",
      "in˚rising˚markets;˚conversely˚the˚Funds˚could˚be˚more˚than˚fully˚\n",
      "invested˚in˚a˚falling˚market.˚In˚both˚circumstances˚the˚performance˚\n",
      "of˚the˚Funds˚would˚suffer.\n",
      "The˚value˚of˚securities˚in˚which˚the˚Funds˚invest˚may˚be˚influenced˚ ˚\n",
      "by˚movements˚in˚commodity˚prices˚which˚can˚be˚very˚volatile.\n",
      "\n",
      "The˚Funds˚invest˚in˚securities˚of˚smaller˚companies˚which˚may˚be˚\n",
      "more˚difficult˚to˚sell,˚more˚volatile˚and˚tend˚to˚carry˚greater˚financial˚\n",
      "risk˚than˚securities˚of˚larger˚companies.\n",
      "The˚possible˚loss˚from˚taking˚a˚Short˚Position˚on˚a˚security˚(using˚\n",
      "Financial˚Derivative˚Instruments)˚may˚be˚unlimited˚as˚there˚is˚no˚\n",
      "restriction˚on˚the˚price˚to˚which˚a˚security˚may˚rise.˚The˚Short˚Selling˚\n",
      "of˚investments˚may˚be˚subject˚to˚changes˚in˚regulations,˚which˚could˚\n",
      "adversely˚impact˚returns˚to˚investors.\n",
      "The˚Funds˚may˚be˚concentrated˚in˚a˚limited˚number˚of˚securities,˚\n",
      "industry˚sectors˚or˚countries˚and˚as˚a˚result,˚may˚be˚more˚volatile˚\n",
      "than˚more˚broadly˚diversified˚funds.˚\n",
      "˚ Emerging˚Markets˚may˚be˚subject˚to˚increased˚political,˚regulatory˚\n",
      "and˚economic˚instability,˚less˚developed˚custody˚and˚settlement˚\n",
      "practices,˚poor˚transparency˚and˚greater˚financial˚risks.˚Emerging˚\n",
      "Market˚currencies˚may˚be˚subject˚to˚volatile˚price˚movements.˚\n",
      "Emerging˚Market˚securities˚may˚also˚be˚subject˚to˚higher˚volatility˚\n",
      "and˚be˚more˚difficult˚to˚sell˚than˚non-Emerging˚Market˚securities.\n",
      "To˚the˚extent˚that˚any˚underlying˚assets˚of˚the˚Funds˚are˚denominated˚\n",
      "in˚a˚currency˚other˚than˚Sterling˚and˚are˚not˚hedged˚back˚to˚\n",
      "Sterling,˚movements˚in˚currency˚exchange˚rates˚can˚adversely˚affect˚\n",
      "the˚return˚of˚your˚investment.˚The˚currency˚hedging˚that˚may˚be˚used˚\n",
      "to˚minimise˚the˚effect˚of˚currency˚fluctuations˚may˚not˚always˚be˚\n",
      "successful.\n",
      "˚ Under˚exceptional˚market˚conditions˚the˚Fund˚may˚be˚unable˚to˚meet˚\n",
      "the˚volatility˚level˚stated˚in˚the˚investment˚objective˚and˚the˚realised˚\n",
      "volatility˚may˚be˚greater˚than˚intended.*\n",
      "The˚Fund˚may˚invest˚in˚China˚A-Shares˚through˚the˚Shanghai-Hong˚\n",
      "Kong˚Stock˚Connect˚program˚which˚is˚subject˚to˚regulatory˚change,˚\n",
      "quota˚limitations˚and˚also˚operational˚constraints˚which˚may˚result˚ ˚\n",
      "in˚increased˚counterparty˚risk.**\n",
      "\n",
      "\n",
      "*˚This˚statement˚only˚refers˚to˚the˚Global˚Macro˚Fund.\n",
      "**˚This˚statement˚only˚refers˚to˚the˚Global˚Macro˚Opportunities˚Fund.\n",
      "\n",
      "J.P.´MORGAN´ASSET´MANAGEMENT´´|´´´7\n",
      "FOR◊PROFESSIONAL◊CLIENTS◊/◊QUALIFIED◊INVESTORS◊ONLY◊–◊NOT◊FOR◊RETAIL◊USE◊OR◊DISTRIBUTION\n",
      "\n",
      "Building\n",
      " stronger´\n",
      "portfolios\n",
      " At˚J.P.˚Morgan˚Asset˚Management,˚collaborating˚with˚our˚clients˚in˚\n",
      " an˚effort˚to˚build˚stronger˚portfolios˚drives˚everything˚that˚we˚do.\n",
      " We˚are˚committed˚to˚sharing˚our˚expertise,˚insights˚and˚solutions˚\n",
      "across˚all˚asset˚classes˚to˚help˚make˚better˚investment˚decisions.˚\n",
      " Whatever˚you˚are˚looking˚to˚achieve,˚together˚we˚can˚solve˚it.˚\n",
      "\n",
      "This˚is˚a˚marketing˚communication˚and˚as˚such˚the˚views˚contained˚herein˚do˚not˚form˚part˚of˚an˚offer,˚nor˚are˚they˚to˚be˚taken˚as˚advice˚or˚a˚recommendation,˚to˚buy˚or˚\n",
      "sell˚any˚investment˚or˚interest˚thereto.˚Reliance˚upon˚information˚in˚this˚material˚is˚at˚the˚sole˚discretion˚of˚the˚reader.˚Any˚research˚in˚this˚document˚has˚been˚obtained˚and˚\n",
      "may˚have˚been˚acted˚upon˚by˚J.P.˚Morgan˚Asset˚Management˚for˚its˚own˚purpose.˚The˚results˚of˚such˚research˚are˚being˚made˚available˚as˚additional˚information˚and˚do˚not˚\n",
      "necessarily˚reflect˚the˚views˚of˚J.P.˚Morgan˚Asset˚Management.˚Any˚forecasts,˚figures,˚opinions,˚statements˚of˚financial˚market˚trends˚or˚investment˚techniques˚and˚strategies˚\n",
      "expressed˚are,˚unless˚otherwise˚stated,˚J.P.˚Morgan˚Asset˚Management’s˚own˚at˚the˚date˚of˚this˚document.˚They˚are˚considered˚to˚be˚reliable˚at˚the˚time˚of˚writing,˚may˚not˚\n",
      "necessarily˚be˚all˚inclusive˚and˚are˚not˚guaranteed˚as˚to˚accuracy.˚They˚may˚be˚subject˚to˚change˚without˚reference˚or˚notification˚to˚you.˚\n",
      "It˚should˚be˚noted˚that˚the˚value˚of˚investments˚and˚the˚income˚from˚them˚may˚fluctuate˚in˚accordance˚with˚market˚conditions˚and˚taxation˚agreements˚and˚investors˚may˚\n",
      "not˚get˚back˚the˚full˚amount˚invested.˚Changes˚in˚exchange˚rates˚may˚have˚an˚adverse˚effect˚on˚the˚value,˚price˚or˚income˚of˚the˚products˚or˚underlying˚overseas˚investments.˚\n",
      "Past˚performance˚and˚yield˚are˚not˚a˚reliable˚indicator˚of˚current˚and˚future˚results.˚There˚is˚no˚guarantee˚that˚any˚forecast˚made˚will˚come˚to˚pass.˚Furthermore,˚whilst˚it˚is˚\n",
      "the˚intention˚to˚achieve˚the˚investment˚objective˚of˚the˚investment˚products,˚there˚can˚be˚no˚assurance˚that˚those˚objectives˚will˚be˚met.˚J.P.˚Morgan˚Asset˚Management˚is˚\n",
      "the˚brand˚name˚for˚the˚asset˚management˚business˚of˚JPMorgan˚Chase˚&˚Co.˚and˚its˚affiliates˚worldwide.˚To˚the˚extent˚permitted˚by˚applicable˚law,˚we˚may˚record˚telephone˚\n",
      "calls˚and˚monitor˚electronic˚communications˚to˚comply˚with˚our˚legal˚and˚regulatory˚obligations˚and˚internal˚policies.˚\n",
      "Personal˚data˚will˚be˚collected,˚stored˚and˚processed˚by˚J.P.˚Morgan˚Asset˚Management˚in˚accordance˚with˚our˚EMEA˚Privacy˚Policy˚ www.jpmorgan.com/emea-privacy-\n",
      "policy.˚Prior˚to˚any˚application˚investors˚are˚advised˚to˚take˚all˚necessary˚legal,˚regulatory˚and˚tax˚advice˚on˚the˚consequences˚of˚an˚investment˚in˚the˚products.˚Investment˚\n",
      "is˚subject˚to˚documentation,˚which˚is˚comprised˚of˚the˚Prospectus,˚Key˚Investor˚Information˚Document˚(KIID)˚and˚either˚the˚Supplementary˚Information˚Document˚(SID)˚or˚\n",
      "Key˚Features/Terms˚and˚Condition.˚These˚documents,˚together˚with˚the˚annual˚report,˚semi-˚annual˚report˚and˚instrument˚of˚incorporation˚are˚available˚free˚of˚charge˚from˚\n",
      "JPMorgan˚Asset˚Management˚(UK)˚Limited.˚This˚communication˚is˚issued˚by˚JPMorgan˚Asset˚Management˚(UK)˚Limited,˚which˚is˚authorised˚and˚regulated˚in˚the˚UK˚by˚the˚\n",
      "Financial˚Conduct˚Authority.˚Registered˚in˚England˚No:˚01161446.˚Registered˚address:˚25˚Bank˚Street,˚Canary˚Wharf,˚London˚E14˚5JP.\n",
      "JPM53201´|´UK´|´04/21´|´0903c02a82b1bd19\n",
      "\n"
     ]
    }
   ],
   "source": [
    "print(content)"
   ]
  },
  {
   "cell_type": "code",
   "execution_count": 25,
   "metadata": {},
   "outputs": [
    {
     "name": "stderr",
     "output_type": "stream",
     "text": [
      "Device set to use cpu\n",
      "Your max_length is set to 814, but your input_length is only 433. Since this is a summarization task, where outputs shorter than the input are typically wanted, you might consider decreasing max_length manually, e.g. summarizer('...', max_length=216)\n"
     ]
    },
    {
     "name": "stdout",
     "output_type": "stream",
     "text": [
      "0\n"
     ]
    },
    {
     "name": "stderr",
     "output_type": "stream",
     "text": [
      "Your max_length is set to 822, but your input_length is only 463. Since this is a summarization task, where outputs shorter than the input are typically wanted, you might consider decreasing max_length manually, e.g. summarizer('...', max_length=231)\n"
     ]
    },
    {
     "name": "stdout",
     "output_type": "stream",
     "text": [
      "1\n"
     ]
    },
    {
     "name": "stderr",
     "output_type": "stream",
     "text": [
      "Your max_length is set to 920, but your input_length is only 482. Since this is a summarization task, where outputs shorter than the input are typically wanted, you might consider decreasing max_length manually, e.g. summarizer('...', max_length=241)\n"
     ]
    },
    {
     "name": "stdout",
     "output_type": "stream",
     "text": [
      "2\n"
     ]
    },
    {
     "name": "stderr",
     "output_type": "stream",
     "text": [
      "Your max_length is set to 984, but your input_length is only 448. Since this is a summarization task, where outputs shorter than the input are typically wanted, you might consider decreasing max_length manually, e.g. summarizer('...', max_length=224)\n"
     ]
    },
    {
     "name": "stdout",
     "output_type": "stream",
     "text": [
      "3\n"
     ]
    },
    {
     "name": "stderr",
     "output_type": "stream",
     "text": [
      "Your max_length is set to 879, but your input_length is only 433. Since this is a summarization task, where outputs shorter than the input are typically wanted, you might consider decreasing max_length manually, e.g. summarizer('...', max_length=216)\n"
     ]
    },
    {
     "name": "stdout",
     "output_type": "stream",
     "text": [
      "4\n"
     ]
    },
    {
     "name": "stderr",
     "output_type": "stream",
     "text": [
      "Your max_length is set to 897, but your input_length is only 395. Since this is a summarization task, where outputs shorter than the input are typically wanted, you might consider decreasing max_length manually, e.g. summarizer('...', max_length=197)\n"
     ]
    },
    {
     "name": "stdout",
     "output_type": "stream",
     "text": [
      "5\n"
     ]
    },
    {
     "name": "stderr",
     "output_type": "stream",
     "text": [
      "Your max_length is set to 710, but your input_length is only 399. Since this is a summarization task, where outputs shorter than the input are typically wanted, you might consider decreasing max_length manually, e.g. summarizer('...', max_length=199)\n"
     ]
    },
    {
     "name": "stdout",
     "output_type": "stream",
     "text": [
      "6\n"
     ]
    },
    {
     "name": "stderr",
     "output_type": "stream",
     "text": [
      "Your max_length is set to 878, but your input_length is only 502. Since this is a summarization task, where outputs shorter than the input are typically wanted, you might consider decreasing max_length manually, e.g. summarizer('...', max_length=251)\n"
     ]
    },
    {
     "name": "stdout",
     "output_type": "stream",
     "text": [
      "7\n"
     ]
    },
    {
     "name": "stderr",
     "output_type": "stream",
     "text": [
      "Your max_length is set to 717, but your input_length is only 406. Since this is a summarization task, where outputs shorter than the input are typically wanted, you might consider decreasing max_length manually, e.g. summarizer('...', max_length=203)\n"
     ]
    },
    {
     "name": "stdout",
     "output_type": "stream",
     "text": [
      "8\n"
     ]
    },
    {
     "name": "stderr",
     "output_type": "stream",
     "text": [
      "Your max_length is set to 979, but your input_length is only 531. Since this is a summarization task, where outputs shorter than the input are typically wanted, you might consider decreasing max_length manually, e.g. summarizer('...', max_length=265)\n"
     ]
    },
    {
     "name": "stdout",
     "output_type": "stream",
     "text": [
      "9\n"
     ]
    },
    {
     "name": "stderr",
     "output_type": "stream",
     "text": [
      "Your max_length is set to 966, but your input_length is only 541. Since this is a summarization task, where outputs shorter than the input are typically wanted, you might consider decreasing max_length manually, e.g. summarizer('...', max_length=270)\n"
     ]
    },
    {
     "name": "stdout",
     "output_type": "stream",
     "text": [
      "10\n"
     ]
    },
    {
     "name": "stderr",
     "output_type": "stream",
     "text": [
      "Your max_length is set to 534, but your input_length is only 306. Since this is a summarization task, where outputs shorter than the input are typically wanted, you might consider decreasing max_length manually, e.g. summarizer('...', max_length=153)\n"
     ]
    },
    {
     "name": "stdout",
     "output_type": "stream",
     "text": [
      "11\n"
     ]
    },
    {
     "name": "stderr",
     "output_type": "stream",
     "text": [
      "Your max_length is set to 939, but your input_length is only 506. Since this is a summarization task, where outputs shorter than the input are typically wanted, you might consider decreasing max_length manually, e.g. summarizer('...', max_length=253)\n"
     ]
    },
    {
     "name": "stdout",
     "output_type": "stream",
     "text": [
      "12\n"
     ]
    },
    {
     "name": "stderr",
     "output_type": "stream",
     "text": [
      "Your max_length is set to 932, but your input_length is only 496. Since this is a summarization task, where outputs shorter than the input are typically wanted, you might consider decreasing max_length manually, e.g. summarizer('...', max_length=248)\n"
     ]
    },
    {
     "name": "stdout",
     "output_type": "stream",
     "text": [
      "13\n"
     ]
    },
    {
     "name": "stderr",
     "output_type": "stream",
     "text": [
      "Your max_length is set to 351, but your input_length is only 182. Since this is a summarization task, where outputs shorter than the input are typically wanted, you might consider decreasing max_length manually, e.g. summarizer('...', max_length=91)\n"
     ]
    },
    {
     "name": "stdout",
     "output_type": "stream",
     "text": [
      "14\n"
     ]
    },
    {
     "name": "stderr",
     "output_type": "stream",
     "text": [
      "Your max_length is set to 621, but your input_length is only 346. Since this is a summarization task, where outputs shorter than the input are typically wanted, you might consider decreasing max_length manually, e.g. summarizer('...', max_length=173)\n"
     ]
    },
    {
     "name": "stdout",
     "output_type": "stream",
     "text": [
      "15\n"
     ]
    },
    {
     "name": "stderr",
     "output_type": "stream",
     "text": [
      "Your max_length is set to 865, but your input_length is only 489. Since this is a summarization task, where outputs shorter than the input are typically wanted, you might consider decreasing max_length manually, e.g. summarizer('...', max_length=244)\n"
     ]
    },
    {
     "name": "stdout",
     "output_type": "stream",
     "text": [
      "16\n"
     ]
    },
    {
     "name": "stderr",
     "output_type": "stream",
     "text": [
      "Your max_length is set to 833, but your input_length is only 471. Since this is a summarization task, where outputs shorter than the input are typically wanted, you might consider decreasing max_length manually, e.g. summarizer('...', max_length=235)\n"
     ]
    },
    {
     "name": "stdout",
     "output_type": "stream",
     "text": [
      "17\n"
     ]
    },
    {
     "name": "stderr",
     "output_type": "stream",
     "text": [
      "Your max_length is set to 976, but your input_length is only 531. Since this is a summarization task, where outputs shorter than the input are typically wanted, you might consider decreasing max_length manually, e.g. summarizer('...', max_length=265)\n"
     ]
    },
    {
     "name": "stdout",
     "output_type": "stream",
     "text": [
      "18\n"
     ]
    },
    {
     "name": "stderr",
     "output_type": "stream",
     "text": [
      "Your max_length is set to 849, but your input_length is only 450. Since this is a summarization task, where outputs shorter than the input are typically wanted, you might consider decreasing max_length manually, e.g. summarizer('...', max_length=225)\n"
     ]
    },
    {
     "name": "stdout",
     "output_type": "stream",
     "text": [
      "19\n"
     ]
    }
   ],
   "source": [
    "from transformers import pipeline, AutoTokenizer, AutoModelForSeq2SeqLM\n",
    "\n",
    "# model = AutoModelForSeq2SeqLM.from_pretrained(\"facebook/bart-large-cnn\")\n",
    "\n",
    "summarizer = pipeline(\"summarization\", model=\"facebook/bart-large-cnn\")\n",
    "\n",
    "res = []\n",
    "# tokenizer = AutoTokenizer.from_pretrained(\"facebook/bart-large-cnn\")\n",
    "i = 0\n",
    "for chunk in chunks:\n",
    "    print(i)\n",
    "    i+=1\n",
    "    # tokenized = tokenizer(page, return_tensors=\"pt\").input_ids\n",
    "    # summary= model.generate(tokenized, max_length = 100, min_length = len(tokenized) // 10) \n",
    "    summary = summarizer(chunk, max_length = len(chunk)-1)\n",
    "    res.append(summary[0][\"summary_text\"])\n",
    "\n"
   ]
  },
  {
   "cell_type": "code",
   "execution_count": 29,
   "metadata": {},
   "outputs": [
    {
     "name": "stdout",
     "output_type": "stream",
     "text": [
      "policy.˚Prior˚to˚any˚application˚investors˚are˚advised˚to˚take˚all˚necessary˚legal,˚regulatory˚and˚tax˚advice˚on˚the˚consequences˚of˚an˚investment˚in˚the˚products.˚Investment˚\n",
      "is˚subject˚to˚documentation,˚which˚is˚comprised˚of˚the˚Prospectus,˚Key˚Investor˚Information˚Document˚(KIID)˚and˚either˚the˚Supplementary˚Information˚Document˚(SID)˚or˚\n",
      "Key˚Features/Terms˚and˚Condition.˚These˚documents,˚together˚with˚the˚annual˚report,˚semi-˚annual˚report˚and˚instrument˚of˚incorporation˚are˚available˚free˚of˚charge˚from˚\n",
      "JPMorgan˚Asset˚Management˚(UK)˚Limited.˚This˚communication˚is˚issued˚by˚JPMorgan˚Asset˚Management˚(UK)˚Limited,˚which˚is˚authorised˚and˚regulated˚in˚the˚UK˚by˚the˚\n",
      "Financial˚Conduct˚Authority.˚Registered˚in˚England˚No:˚01161446.˚Registered˚address:˚25˚Bank˚Street,˚Canary˚Wharf,˚London˚E14˚5JP.\n",
      "JPM53201´|´UK´|´04/21´|´0903c02a82b1bd19\n"
     ]
    }
   ],
   "source": [
    "print(chunk)"
   ]
  },
  {
   "cell_type": "code",
   "execution_count": 26,
   "metadata": {},
   "outputs": [
    {
     "name": "stdout",
     "output_type": "stream",
     "text": [
      "A traditional fund manager’s job is to ‘beat’ a benchmark. The benchmark is trying to identify the shares that will ‘outperform’ their peers. The decision to buy or sell a share often begins with the ‘specifics’ of the company.\n"
     ]
    }
   ],
   "source": [
    "print(res[0])"
   ]
  },
  {
   "cell_type": "code",
   "execution_count": 27,
   "metadata": {},
   "outputs": [
    {
     "name": "stderr",
     "output_type": "stream",
     "text": [
      "Your max_length is set to 787, but your input_length is only 235. Since this is a summarization task, where outputs shorter than the input are typically wanted, you might consider decreasing max_length manually, e.g. summarizer('...', max_length=117)\n"
     ]
    },
    {
     "name": "stdout",
     "output_type": "stream",
     "text": [
      "1 iteration\n"
     ]
    },
    {
     "name": "stderr",
     "output_type": "stream",
     "text": [
      "Your max_length is set to 664, but your input_length is only 215. Since this is a summarization task, where outputs shorter than the input are typically wanted, you might consider decreasing max_length manually, e.g. summarizer('...', max_length=107)\n",
      "Your max_length is set to 857, but your input_length is only 325. Since this is a summarization task, where outputs shorter than the input are typically wanted, you might consider decreasing max_length manually, e.g. summarizer('...', max_length=162)\n",
      "Your max_length is set to 920, but your input_length is only 464. Since this is a summarization task, where outputs shorter than the input are typically wanted, you might consider decreasing max_length manually, e.g. summarizer('...', max_length=232)\n",
      "Your max_length is set to 990, but your input_length is only 397. Since this is a summarization task, where outputs shorter than the input are typically wanted, you might consider decreasing max_length manually, e.g. summarizer('...', max_length=198)\n",
      "Your max_length is set to 632, but your input_length is only 205. Since this is a summarization task, where outputs shorter than the input are typically wanted, you might consider decreasing max_length manually, e.g. summarizer('...', max_length=102)\n",
      "Your max_length is set to 751, but your input_length is only 202. Since this is a summarization task, where outputs shorter than the input are typically wanted, you might consider decreasing max_length manually, e.g. summarizer('...', max_length=101)\n"
     ]
    },
    {
     "name": "stdout",
     "output_type": "stream",
     "text": [
      "1 iteration\n"
     ]
    },
    {
     "name": "stderr",
     "output_type": "stream",
     "text": [
      "Your max_length is set to 868, but your input_length is only 250. Since this is a summarization task, where outputs shorter than the input are typically wanted, you might consider decreasing max_length manually, e.g. summarizer('...', max_length=125)\n",
      "Your max_length is set to 586, but your input_length is only 131. Since this is a summarization task, where outputs shorter than the input are typically wanted, you might consider decreasing max_length manually, e.g. summarizer('...', max_length=65)\n"
     ]
    },
    {
     "name": "stdout",
     "output_type": "stream",
     "text": [
      "1 iteration\n"
     ]
    }
   ],
   "source": [
    "\n",
    "\n",
    "while(len(res) > 1):\n",
    "    print(\"1 iteration\")\n",
    "    result = \"\\n\".join(res)\n",
    "    temp = []\n",
    "    i = 0\n",
    "    temp_chunks = splitter.split_text(result)\n",
    "    for temp_chunk in temp_chunks:\n",
    "        summary = summarizer(temp_chunk, max_length = len(temp_chunk)-1)\n",
    "        temp.append(summary[0][\"summary_text\"])\n",
    "    res = temp\n",
    "    "
   ]
  },
  {
   "cell_type": "code",
   "execution_count": 28,
   "metadata": {},
   "outputs": [
    {
     "name": "stdout",
     "output_type": "stream",
     "text": [
      "J.P. Morgan Asset Management has £1814.0m assets and £100.9m management management management assets. The fund is expected to generate a return of £6.5bn over the next three years. Share prices are expected to rise to £1.6bn.\n"
     ]
    }
   ],
   "source": [
    "print(res[0])"
   ]
  },
  {
   "cell_type": "code",
   "execution_count": 1,
   "metadata": {},
   "outputs": [],
   "source": [
    "with open(\"data/question.txt\", \"r\") as f:\n",
    "    questions = f.read().split(\"\\n\")"
   ]
  },
  {
   "cell_type": "code",
   "execution_count": 2,
   "metadata": {},
   "outputs": [
    {
     "name": "stdout",
     "output_type": "stream",
     "text": [
      "['Carbon Emissions (tons)', 'Energy Source (%)', 'Renewable', 'Waste Management Metrics (Recycling Rate %)', 'Water Usage (cubic meters/year)', 'Deforestation Impact (hectares)', 'Sustainability Initiatives', 'Certification Presence', 'Certification Type', 'Certification Validity', 'Social Media Sentiment', 'Customer Reviews (Average Rating)', 'Media Mentions', 'Compliance Rating', 'Number of Violations', 'Fine Amount ($)', 'Controversy Type', 'Controversy Severity', 'ESG Investment Attractiveness Score', 'Impact on Stock Price (%)']\n"
     ]
    }
   ],
   "source": [
    "print(questions)"
   ]
  },
  {
   "cell_type": "code",
   "execution_count": null,
   "metadata": {},
   "outputs": [
    {
     "name": "stderr",
     "output_type": "stream",
     "text": [
      "Device set to use cpu\n",
      "c:\\Users\\jamin\\Documents\\Courses\\Legal-Pythia\\.env\\Lib\\site-packages\\transformers\\pipelines\\question_answering.py:391: FutureWarning: Passing a list of SQuAD examples to the pipeline is deprecated and will be removed in v5. Inputs should be passed using the `question` and `context` keyword arguments instead.\n",
      "  warnings.warn(\n"
     ]
    },
    {
     "name": "stdout",
     "output_type": "stream",
     "text": [
      "Carbon Emissions (tons)\n",
      "Energy Source (%)\n",
      "Renewable\n",
      "Waste Management Metrics (Recycling Rate %)\n",
      "Water Usage (cubic meters/year)\n",
      "Deforestation Impact (hectares)\n",
      "Sustainability Initiatives\n",
      "Certification Presence\n",
      "Certification Type\n",
      "Certification Validity\n",
      "Social Media Sentiment\n",
      "Customer Reviews (Average Rating)\n",
      "Media Mentions\n",
      "Compliance Rating\n",
      "Number of Violations\n",
      "Fine Amount ($)\n",
      "Controversy Type\n",
      "Controversy Severity\n",
      "ESG Investment Attractiveness Score\n",
      "Impact on Stock Price (%)\n",
      "[{'score': 0.003851584391668439, 'start': 11561, 'end': 11580, 'answer': 'stronger˚portfolios'}, {'score': 0.035917457193136215, 'start': 6166, 'end': 6179, 'answer': 'OPPORTUNITIES'}, {'score': 0.016466151922941208, 'start': 6166, 'end': 6179, 'answer': 'OPPORTUNITIES'}, {'score': 0.009688968770205975, 'start': 11560, 'end': 11570, 'answer': '˚stronger˚'}, {'score': 0.005083221476525068, 'start': 7491, 'end': 7496, 'answer': 'value'}, {'score': 0.0090476144105196, 'start': 11561, 'end': 11580, 'answer': 'stronger˚portfolios'}, {'score': 0.00275762053206563, 'start': 6146, 'end': 6152, 'answer': ':◊\\nJPM'}, {'score': 0.013443775475025177, 'start': 6166, 'end': 6179, 'answer': 'OPPORTUNITIES'}, {'score': 0.01616569049656391, 'start': 6166, 'end': 6179, 'answer': 'OPPORTUNITIES'}, {'score': 0.001196512021124363, 'start': 5191, 'end': 5210, 'answer': 'þweþlookþforþwhereþ'}, {'score': 0.0016937165055423975, 'start': 6148, 'end': 6152, 'answer': '\\nJPM'}, {'score': 0.0012405848829075694, 'start': 6146, 'end': 6152, 'answer': ':◊\\nJPM'}, {'score': 0.018844233825802803, 'start': 6166, 'end': 6179, 'answer': 'OPPORTUNITIES'}, {'score': 0.01627207174897194, 'start': 6166, 'end': 6179, 'answer': 'OPPORTUNITIES'}, {'score': 0.0014358347980305552, 'start': 5642, 'end': 5662, 'answer': 'shareþpricesþtoþrise'}, {'score': 0.026553530246019363, 'start': 6166, 'end': 6179, 'answer': 'OPPORTUNITIES'}, {'score': 0.0009823619620874524, 'start': 5642, 'end': 5662, 'answer': 'shareþpricesþtoþrise'}, {'score': 0.0009520898456685245, 'start': 7491, 'end': 7497, 'answer': 'value˚'}, {'score': 0.005759901367127895, 'start': 11561, 'end': 11580, 'answer': 'stronger˚portfolios'}, {'score': 0.006787638179957867, 'start': 11561, 'end': 11580, 'answer': 'stronger˚portfolios'}]\n"
     ]
    }
   ],
   "source": [
    "from transformers import AutoModelForQuestionAnswering, AutoTokenizer, pipeline\n",
    "\n",
    "model_name = \"deepset/roberta-base-squad2\"\n",
    "\n",
    "# a) Get predictions\n",
    "nlp = pipeline('question-answering', model=model_name, tokenizer=model_name)\n",
    "ans = {}\n",
    "for question in questions:\n",
    "    print(question)\n",
    "    QA_input = {\n",
    "        'question': f'{question}: ',\n",
    "        'context': content\n",
    "    }\n",
    "    output = nlp(QA_input)\n",
    "    if output[\"score\"] > 0.8:\n",
    "        ans[question] = output.answer\n",
    "\n",
    "print(ans)"
   ]
  }
 ],
 "metadata": {
  "kernelspec": {
   "display_name": ".env",
   "language": "python",
   "name": "python3"
  },
  "language_info": {
   "codemirror_mode": {
    "name": "ipython",
    "version": 3
   },
   "file_extension": ".py",
   "mimetype": "text/x-python",
   "name": "python",
   "nbconvert_exporter": "python",
   "pygments_lexer": "ipython3",
   "version": "3.12.7"
  }
 },
 "nbformat": 4,
 "nbformat_minor": 2
}
